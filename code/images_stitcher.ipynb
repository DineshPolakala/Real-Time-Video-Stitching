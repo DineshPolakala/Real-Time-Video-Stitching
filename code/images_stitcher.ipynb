{
 "cells": [
  {
   "cell_type": "code",
   "execution_count": 1,
   "metadata": {},
   "outputs": [
    {
     "data": {
      "text/plain": [
       "\"import os;\\nres = os.listdir('practice\\\\images')\\nres\""
      ]
     },
     "execution_count": 1,
     "metadata": {},
     "output_type": "execute_result"
    }
   ],
   "source": [
    "\"\"\"import os;\n",
    "res = os.listdir('practice\\images')\n",
    "res\"\"\""
   ]
  },
  {
   "cell_type": "code",
   "execution_count": 1,
   "metadata": {},
   "outputs": [],
   "source": [
    "import os\n",
    "import cv2\n",
    "\n",
    "# params\n",
    "VIZ_BOOL = True\n",
    "SCALE_FACTOR = 1/4\n",
    "DATA_DIR = 'home'\n",
    "OUTPUT_DIR = 'output'\n",
    "\n",
    "\n",
    "def stitch_images(images):\n",
    "    '''\n",
    "    @brief: Stich all the given images and save the stitched image\n",
    "    @arg[in]: Array of images to be stitched\n",
    "    '''\n",
    "    stitcher = cv2.Stitcher_create()\n",
    "    status, stitched = stitcher.stitch(images)\n",
    "    if status == 0:\n",
    "        out_path = os.path.join(OUTPUT_DIR, 'stitched.png')\n",
    "        cv2.imwrite(out_path, stitched)\n",
    "        if VIZ_BOOL:\n",
    "            cv2.imshow(\"Stitched\", stitched)\n",
    "            cv2.waitKey(0) \n",
    "    else:\n",
    "        print(\"Stitching failed, retake images\")\n",
    "\n",
    "\n",
    "def main():\n",
    "    images = []\n",
    "    for image_name in os.listdir(DATA_DIR):\n",
    "        image = cv2.imread(os.path.join(DATA_DIR, image_name))\n",
    "        image = cv2.resize(image, dsize=(0, 0),\n",
    "                           fx=SCALE_FACTOR, fy=SCALE_FACTOR)\n",
    "        if True:\n",
    "            cv2.imshow(image_name, image)\n",
    "            #cv2.waitKey(0)\n",
    "        images.append(image)\n",
    "    stitch_images(images)\n",
    "\n",
    "\n",
    "if __name__ == '__main__':\n",
    "    main()"
   ]
  },
  {
   "cell_type": "code",
   "execution_count": 1,
   "metadata": {},
   "outputs": [
    {
     "name": "stdout",
     "output_type": "stream",
     "text": [
      "Requirement already satisfied: imutils in c:\\users\\dines\\anaconda3\\envs\\py3env\\lib\\site-packages (0.5.4)\n"
     ]
    }
   ],
   "source": [
    "#!pip install imutils"
   ]
  },
  {
   "cell_type": "code",
   "execution_count": null,
   "metadata": {},
   "outputs": [],
   "source": [
    "\n"
   ]
  }
 ],
 "metadata": {
  "kernelspec": {
   "display_name": "Python 3",
   "language": "python",
   "name": "python3"
  },
  "language_info": {
   "codemirror_mode": {
    "name": "ipython",
    "version": 3
   },
   "file_extension": ".py",
   "mimetype": "text/x-python",
   "name": "python",
   "nbconvert_exporter": "python",
   "pygments_lexer": "ipython3",
   "version": "3.8.5"
  }
 },
 "nbformat": 4,
 "nbformat_minor": 4
}
